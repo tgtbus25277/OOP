{
 "cells": [
  {
   "cell_type": "code",
   "execution_count": 1,
   "metadata": {},
   "outputs": [
    {
     "name": "stdout",
     "output_type": "stream",
     "text": [
      "25\n"
     ]
    }
   ],
   "source": [
    "square = lambda x: x**2\n",
    "print(square(5)) # Output: 25"
   ]
  },
  {
   "cell_type": "code",
   "execution_count": 4,
   "metadata": {},
   "outputs": [
    {
     "name": "stdout",
     "output_type": "stream",
     "text": [
      "0\n",
      "1\n"
     ]
    }
   ],
   "source": [
    "def fibonacci():\n",
    "    a, b = 0, 1\n",
    "    while True:\n",
    "        yield a\n",
    "        a, b = b, a + b\n",
    "fib = fibonacci()\n",
    "print(next(fib)) # Output: 0\n",
    "print(next(fib)) # Output: 1"
   ]
  },
  {
   "cell_type": "code",
   "execution_count": 5,
   "metadata": {},
   "outputs": [
    {
     "name": "stdout",
     "output_type": "stream",
     "text": [
      "First element: 1\n",
      "Last element: 5\n",
      "Sliced elements: [3, 4]\n",
      "After append: [1, 2, 3, 4, 5, 6]\n",
      "After removal: [1, 2, 4, 5, 6]\n"
     ]
    }
   ],
   "source": [
    "# List initialization\n",
    "numbers = [1, 2, 3, 4, 5]\n",
    "# Accessing elements\n",
    "print(\"First element:\", numbers[0])\n",
    "# Output: 1\n",
    "print(\"Last element:\", numbers[-1])\n",
    "# Output: 5\n",
    "# Slicing\n",
    "print(\"Sliced elements:\", numbers[2:4]) # Output: [3, 4]\n",
    "# Appending and extending\n",
    "numbers.append(6)\n",
    "print(\"After append:\", numbers)\n",
    "# Output: [1, 2, 3, 4, 5, 6]\n",
    "# Removing elements\n",
    "numbers.remove(3)\n",
    "print(\"After removal:\", numbers)\n",
    "# Output: [1, 2, 4, 5, 6]"
   ]
  },
  {
   "cell_type": "code",
   "execution_count": 7,
   "metadata": {},
   "outputs": [
    {
     "name": "stdout",
     "output_type": "stream",
     "text": [
      "Squares of even numbers: [0, 4, 16, 36, 64]\n"
     ]
    }
   ],
   "source": [
    "# List comprehension to create a list of squares of even numbers\n",
    "even_numbers = [x for x in range(10) if x % 2 == 0]\n",
    "squares = [num**2 for num in even_numbers]\n",
    "print(\"Squares of even numbers:\", squares) # Output: [0, 4, 16, 36, 64]"
   ]
  },
  {
   "cell_type": "code",
   "execution_count": 8,
   "metadata": {},
   "outputs": [
    {
     "name": "stdout",
     "output_type": "stream",
     "text": [
      "Alice is 25 years old and lives in New York\n",
      "Bob is 30 years old and lives in Los Angeles\n",
      "Charlie is 35 years old and lives in Chicago\n"
     ]
    }
   ],
   "source": [
    "names = [\"Alice\", \"Bob\", \"Charlie\"]\n",
    "ages = [25, 30, 35]\n",
    "city = [\"New York\", \"Los Angeles\", \"Chicago\"]\n",
    "# Using zip() for parallel iteration\n",
    "for name, age, city in zip(names, ages, city): print(f\"{name} is {age} years old and lives in {city}\")\n",
    "# Output:\n",
    "#Alice is 25 years old and lives in New York\n",
    "#Bob is 30 years old and lives in Los Angeles\n",
    "# Charlie is 35 years old and lives in Chicago"
   ]
  },
  {
   "cell_type": "code",
   "execution_count": 9,
   "metadata": {},
   "outputs": [
    {
     "name": "stdout",
     "output_type": "stream",
     "text": [
      "x-coordinate: 3\n",
      "y-coordinate: 5\n",
      "Location at (3, 5): Home\n"
     ]
    }
   ],
   "source": [
    "# Tuple initialization\n",
    "coordinates = (3, 5)\n",
    "# Unpacking tuples\n",
    "x, y = coordinates\n",
    "print(\"x-coordinate:\", x)\n",
    "# Output: 3\n",
    "print(\"y-coordinate:\", y)\n",
    "# Output: 5\n",
    "# Tuple as keys in dictionary\n",
    "location = {(3, 5): \"Home\", (10, 20): \"Office\"}\n",
    "print(\"Location at (3, 5):\", location[(3,5)])\n",
    "# Output: Home"
   ]
  },
  {
   "cell_type": "code",
   "execution_count": 3,
   "metadata": {},
   "outputs": [
    {
     "name": "stdout",
     "output_type": "stream",
     "text": [
      "Coordinates of p1: 3 5\n"
     ]
    }
   ],
   "source": [
    "from collections import namedtuple\n",
    "# Define a named tuple\n",
    "Point = namedtuple('Point', ['x', 'y'])\n",
    "# Create instances of the named tuple\n",
    "p1 = Point(3,5) \n",
    "p2 = Point(-1, 2)\n",
    "# Access elements by name \n",
    "print(\"Coordinates of p1:\", p1.x, p1.y)\n",
    "# Output: 35"
   ]
  },
  {
   "cell_type": "code",
   "execution_count": 4,
   "metadata": {},
   "outputs": [],
   "source": [
    "coordinates = (3,5)\n",
    "# Trying to modify a tuple (will raise an error)\n",
    "# coordinates[0] = 10\n",
    "# TypeError: 'tuple' object does not support item assignment"
   ]
  },
  {
   "cell_type": "code",
   "execution_count": 5,
   "metadata": {},
   "outputs": [
    {
     "name": "stdout",
     "output_type": "stream",
     "text": [
      "Name: Alice\n",
      "Updated age: 31\n",
      "name: Alice\n",
      "age: 31\n",
      "city: New York\n"
     ]
    }
   ],
   "source": [
    "# Dictionary initialization\n",
    "person = {'name': 'Alice', 'age': 30, 'city': 'New York'}\n",
    "# Accessing values\n",
    "print(\"Name:\", person ['name']) # Output: Alice\n",
    "# Updating values\n",
    "person['age'] = 31\n",
    "print(\"Updated age:\", person['age']) # Output: 31\n",
    "# Iterating through keys and values\n",
    "for key, value in person.items(): print(f\"{key}: {value}\")\n",
    "# Output:\n",
    "#name: Alice\n",
    "# age: 31\n",
    "#city: New York"
   ]
  },
  {
   "cell_type": "code",
   "execution_count": 6,
   "metadata": {},
   "outputs": [
    {
     "name": "stdout",
     "output_type": "stream",
     "text": [
      "Dictionary of squares: {1: 1, 2: 4, 3: 9, 4: 16, 5: 25}\n"
     ]
    }
   ],
   "source": [
    "# Dictionary comprehension to create a dictionary of squares\n",
    "numbers = [1, 2, 3, 4, 5]\n",
    "square_dict = {num: num**2 for num in numbers}\n",
    "print(\"Dictionary of squares:\", square_dict)\n",
    "# Output: {1:1, 2:4, 3:9, 4: 16, 5:25}"
   ]
  },
  {
   "cell_type": "code",
   "execution_count": 9,
   "metadata": {},
   "outputs": [
    {
     "name": "stdout",
     "output_type": "stream",
     "text": [
      "City: Unknown\n"
     ]
    }
   ],
   "source": [
    "person = {'name': 'Alice', 'age': 30} \n",
    "# Using get() method to handle missing keys\n",
    "city = person.get('city', 'Unknown')\n",
    "print(\"City:\", city) # Output: Unknown"
   ]
  },
  {
   "cell_type": "code",
   "execution_count": 11,
   "metadata": {},
   "outputs": [
    {
     "name": "stdout",
     "output_type": "stream",
     "text": [
      "Average temperatures: {'New York': 30.0, 'Los Angeles': 73.0, 'Chicago': 20.0}\n"
     ]
    }
   ],
   "source": [
    "# Dictionary of lists: Mapping cities to their temperatures\n",
    "cities = {\n",
    "'New York': [32, 25, 30, 28, 35],\n",
    "'Los Angeles': [75, 68, 72, 70, 80],\n",
    "'Chicago': [20, 18, 22, 25, 15]\n",
    "}\n",
    "# Calculate average temperature for each city\n",
    "averages = {city: sum(temps) / len(temps) for city, temps in cities.items()} \n",
    "print(\"Average temperatures:\", averages)\n",
    "# Output: {'New York': 30.0, 'Los Angeles': 73.0, 'Chicago': 20.0}"
   ]
  }
 ],
 "metadata": {
  "kernelspec": {
   "display_name": "Python 3",
   "language": "python",
   "name": "python3"
  },
  "language_info": {
   "codemirror_mode": {
    "name": "ipython",
    "version": 3
   },
   "file_extension": ".py",
   "mimetype": "text/x-python",
   "name": "python",
   "nbconvert_exporter": "python",
   "pygments_lexer": "ipython3",
   "version": "3.11.9"
  }
 },
 "nbformat": 4,
 "nbformat_minor": 2
}
