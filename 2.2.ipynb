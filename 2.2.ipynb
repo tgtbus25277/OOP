{
 "cells": [
  {
   "cell_type": "code",
   "execution_count": 41,
   "metadata": {},
   "outputs": [
    {
     "name": "stdout",
     "output_type": "stream",
     "text": [
      "*\n",
      "**\n",
      "***\n",
      "****\n",
      "*****\n"
     ]
    }
   ],
   "source": [
    "def print_pattern1(n):\n",
    "    if n > 0:\n",
    "        print_pattern1(n - 1)\n",
    "        print('*' * n)\n",
    "\n",
    "print_pattern1(5)\n"
   ]
  },
  {
   "cell_type": "code",
   "execution_count": 42,
   "metadata": {},
   "outputs": [
    {
     "name": "stdout",
     "output_type": "stream",
     "text": [
      "*****\n",
      "****\n",
      "***\n",
      "**\n",
      "*\n"
     ]
    }
   ],
   "source": [
    "def print_pattern2(n):\n",
    "    if n > 0:\n",
    "        print('*' * n)\n",
    "        print_pattern2(n - 1)\n",
    "\n",
    "print_pattern2(5)\n"
   ]
  },
  {
   "cell_type": "code",
   "execution_count": 43,
   "metadata": {},
   "outputs": [
    {
     "name": "stdout",
     "output_type": "stream",
     "text": [
      "    * \n",
      "   * * \n",
      "  * * * \n",
      " * * * * \n",
      "* * * * * \n"
     ]
    }
   ],
   "source": [
    "def print_pattern3(n, current=1):\n",
    "    if current <= n:\n",
    "        print(' ' * (n - current) + '* ' * current)\n",
    "        print_pattern3(n, current + 1)\n",
    "\n",
    "print_pattern3(5)\n"
   ]
  },
  {
   "cell_type": "code",
   "execution_count": 44,
   "metadata": {},
   "outputs": [
    {
     "name": "stdout",
     "output_type": "stream",
     "text": [
      "* * * * * \n",
      " * * * * \n",
      "  * * * \n",
      "   * * \n",
      "    * \n"
     ]
    }
   ],
   "source": [
    "def print_pattern(n, current=1):\n",
    "    if current <= n:\n",
    "        print(' ' * (current - 1) + '* ' * (n - current + 1))\n",
    "        print_pattern(n, current + 1)\n",
    "\n",
    "print_pattern(5)\n"
   ]
  },
  {
   "cell_type": "code",
   "execution_count": 45,
   "metadata": {},
   "outputs": [
    {
     "name": "stdout",
     "output_type": "stream",
     "text": [
      "    *\n",
      "   **\n",
      "  ***\n",
      " ****\n",
      "*****\n"
     ]
    }
   ],
   "source": [
    "def print_pattern5(n, current=1):\n",
    "    if current <= n:\n",
    "        print(' ' * (n - current) + '*' * current)\n",
    "        print_pattern5(n, current + 1)\n",
    "\n",
    "print_pattern5(5)\n"
   ]
  }
 ],
 "metadata": {
  "kernelspec": {
   "display_name": "Python 3",
   "language": "python",
   "name": "python3"
  },
  "language_info": {
   "codemirror_mode": {
    "name": "ipython",
    "version": 3
   },
   "file_extension": ".py",
   "mimetype": "text/x-python",
   "name": "python",
   "nbconvert_exporter": "python",
   "pygments_lexer": "ipython3",
   "version": "3.11.9"
  }
 },
 "nbformat": 4,
 "nbformat_minor": 2
}
